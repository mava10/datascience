{
  "nbformat": 4,
  "nbformat_minor": 0,
  "metadata": {
    "colab": {
      "provenance": []
    },
    "kernelspec": {
      "name": "python3",
      "display_name": "Python 3"
    },
    "language_info": {
      "name": "python"
    }
  },
  "cells": [
    {
      "cell_type": "code",
      "source": [
        "#Importar Librerías\n",
        "import pandas as pd\n",
        "import numpy as np\n",
        "\n",
        "# A. Extraer la información del archivo.\n",
        "\n",
        "#Carga de arcvhio y lectura\n",
        "# Carga de Datos acceso a mi carpeta de Drive para acceder al archivo cvs\n",
        "from google.colab import files\n",
        "from google.colab import drive\n",
        "drive.mount('/content/drive')\n",
        "datos = pd.read_csv(\"/content/drive/MyDrive/DataScientist/02 Procesamiento y manipulación de datos con Python/02 Panda y Numpy en Python/country_vaccinations.csv\")\n"
      ],
      "metadata": {
        "colab": {
          "base_uri": "https://localhost:8080/"
        },
        "id": "LJUDv0H7xNnC",
        "outputId": "c3eb0af0-a288-4a4f-e2f2-4eac5b6efa46"
      },
      "execution_count": 39,
      "outputs": [
        {
          "output_type": "stream",
          "name": "stdout",
          "text": [
            "Drive already mounted at /content/drive; to attempt to forcibly remount, call drive.mount(\"/content/drive\", force_remount=True).\n"
          ]
        }
      ]
    },
    {
      "cell_type": "code",
      "source": [
        "# B. Mostrar la estructura y tipos de datos de cada columna\n",
        "\n",
        "# Exploración preliminar: Visualiza la estructura y los tipos de\n",
        "# datos de cada columna\n",
        "# Detección columnas fecha conversión de object a datetime64[ns]\n",
        "\n",
        "date_cols = [col for col in datos.columns if pd.api.types.is_string_dtype(datos[col]) and any(x in col.lower() for x in [\"fecha\", \"date\"])]\n",
        "for col in date_cols:\n",
        "  try:\n",
        "    datos[col] = pd.to_datetime(datos[col])\n",
        "  except pd.errors.ParserError:\n",
        "    print(f\"Warning: Could not parse dates in column '{col}'. Skipping conversion.\")\n",
        "\n",
        "print(\"\\nData types after processing:\")\n",
        "print(\"Data summary:\")\n",
        "print(datos.info())\n",
        "print(\"\\nFirst 5 rows:\")\n",
        "print(datos.head())"
      ],
      "metadata": {
        "id": "bEkfcVUc2o4Q"
      },
      "execution_count": null,
      "outputs": []
    },
    {
      "cell_type": "code",
      "source": [
        "# C. Cantidad de Vacunas aplicadas por cada compañía\n",
        "datos['total_vaccinations'] = datos['total_vaccinations'].fillna(0)\n",
        "grouped_vaccines = datos.groupby('vaccines')['total_vaccinations'].sum()\n",
        "print(\"\\nTotal vaccinations by vaccine type:\")\n",
        "print(grouped_vaccines)\n"
      ],
      "metadata": {
        "id": "1_Gbffjd2sI1"
      },
      "execution_count": null,
      "outputs": []
    },
    {
      "cell_type": "code",
      "source": [
        "# D. Obtener la cantidad de vacunas aplicadas en todo el mundo.\n",
        "total_world_vaccinations = datos['total_vaccinations'].sum()\n",
        "print(f\"\\nTotal world vaccinations: {total_world_vaccinations}\")\n"
      ],
      "metadata": {
        "id": "UGUCgSK63amQ"
      },
      "execution_count": null,
      "outputs": []
    },
    {
      "cell_type": "code",
      "source": [
        "# E. Calcular el promedio de vacunas aplicadas por país.\n",
        "average_per_country = datos.groupby('country')['total_vaccinations'].mean()\n",
        "print(\"\\nAverage vaccinations per country:\")\n",
        "print(average_per_country)"
      ],
      "metadata": {
        "id": "FsNcCow5-pBs"
      },
      "execution_count": null,
      "outputs": []
    },
    {
      "cell_type": "code",
      "source": [
        "# F. Determinar la cantidad de vacunas aplicadas el día 29/01/21 en todo el mundo.\n",
        "vaccines_on_date = datos[datos['date'] == '2021-01-29']['total_vaccinations'].sum()\n",
        "print(f\"\\nVaccinations on 2021-01-29: {vaccines_on_date}\")"
      ],
      "metadata": {
        "id": "VVV8Ajzi-vjl"
      },
      "execution_count": null,
      "outputs": []
    },
    {
      "cell_type": "code",
      "source": [
        "# G. Crear un dataframe nuevo conDiferencias.\n",
        "datos['differences'] = datos['daily_vaccinations'] - datos['daily_vaccinations_raw']\n",
        "df_conDiferencias = datos.copy()"
      ],
      "metadata": {
        "id": "ZOeSm3jg-84L"
      },
      "execution_count": 68,
      "outputs": []
    },
    {
      "cell_type": "code",
      "source": [
        "# H. Obtener el periodo de tiempo entre el registro más reciente y el más antiguo.\n",
        "date_range = datos['date'].max() - datos['date'].min()\n",
        "print(f\"\\nDate range: {date_range}\")"
      ],
      "metadata": {
        "id": "lU9yeZaD_DML"
      },
      "execution_count": null,
      "outputs": []
    },
    {
      "cell_type": "code",
      "source": [
        "# I. Crear un dataframe conCantidad.\n",
        "datos['canVac'] = datos['vaccines'].str.split(',')\n",
        "df_conCantidad = datos.copy()\n"
      ],
      "metadata": {
        "id": "xlqEbI84_Nc2"
      },
      "execution_count": 57,
      "outputs": []
    },
    {
      "cell_type": "code",
      "source": [
        "# J. Generar un dataframe antes20 con registros antes del 20 de diciembre de\n",
        "# 2020.\n",
        "df_antes20 = datos[datos['date'] < '2020-12-20']\n",
        "\n"
      ],
      "metadata": {
        "id": "44TTk4S-_QSK"
      },
      "execution_count": 59,
      "outputs": []
    },
    {
      "cell_type": "code",
      "source": [
        "# K. Obtener un dataframe pfizer con todos los registros donde se usó la vacuna\n",
        "# Pfizer.\n",
        "df_pfizer = datos[datos['vaccines'].str.contains('Pfizer')]\n"
      ],
      "metadata": {
        "id": "FNyqwKxT_XN6"
      },
      "execution_count": 60,
      "outputs": []
    },
    {
      "cell_type": "code",
      "source": [
        "# L. Almacenar los dataframes generados en un archivo Excel.\n",
        "\n",
        "output_path = '/content/drive/MyDrive/resultadosReto.xlsx'\n",
        "with pd.ExcelWriter(output_path, engine='openpyxl') as writer:\n",
        "    df_conDiferencias.to_excel(writer, sheet_name='ConDiferencias', index=False)\n",
        "    df_conCantidad.to_excel(writer, sheet_name='ConCantidad', index=False)\n",
        "    df_antes20.to_excel(writer, sheet_name='Antes20', index=False)\n",
        "    df_pfizer.to_excel(writer, sheet_name='Pfizer', index=False)\n",
        "\n",
        "print(\"Dataframes saved to Excel at: \", output_path)"
      ],
      "metadata": {
        "colab": {
          "base_uri": "https://localhost:8080/"
        },
        "id": "dBL5xiZM_amd",
        "outputId": "837128f0-9098-41ca-f8f4-d353f479551c"
      },
      "execution_count": 69,
      "outputs": [
        {
          "output_type": "stream",
          "name": "stdout",
          "text": [
            "Dataframes saved to Excel at:  /content/drive/MyDrive/resultadosReto.xlsx\n"
          ]
        }
      ]
    },
    {
      "cell_type": "code",
      "source": [],
      "metadata": {
        "id": "1U2_sSWz_kpj"
      },
      "execution_count": null,
      "outputs": []
    }
  ]
}